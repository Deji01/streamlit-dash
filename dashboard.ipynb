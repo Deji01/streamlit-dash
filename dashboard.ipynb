{
 "cells": [
  {
   "cell_type": "code",
   "execution_count": null,
   "metadata": {},
   "outputs": [],
   "source": [
    "import pandas as pd \n",
    "import pandas.io.sql as psql\n",
    "import psycopg2 as pg"
   ]
  },
  {
   "cell_type": "code",
   "execution_count": null,
   "metadata": {},
   "outputs": [],
   "source": [
    "\n",
    "connection = pg.connect(\"host=localhost dbname=kinder user=your_username password=your_password\")\n",
    "dataframe = psql.read_sql('SELECT * FROM product_product', connection)\n",
    "product_category = psql.read_sql_query('select * from product_category', connection)"
   ]
  }
 ],
 "metadata": {
  "language_info": {
   "name": "python"
  },
  "orig_nbformat": 4
 },
 "nbformat": 4,
 "nbformat_minor": 2
}
